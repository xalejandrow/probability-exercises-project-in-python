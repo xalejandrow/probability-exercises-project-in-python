{
  "cells": [
    {
      "cell_type": "markdown",
      "metadata": {
        "id": "view-in-github",
        "colab_type": "text"
      },
      "source": [
        "<a href=\"https://colab.research.google.com/github/xalejandrow/probability-exercises-project-in-python/blob/main/export/probability.ipynb\" target=\"_parent\"><img src=\"https://colab.research.google.com/assets/colab-badge.svg\" alt=\"Open In Colab\"/></a>"
      ]
    },
    {
      "cell_type": "markdown",
      "id": "23d7f094",
      "metadata": {
        "id": "23d7f094"
      },
      "source": [
        "# Probability"
      ]
    },
    {
      "cell_type": "markdown",
      "id": "040f4925",
      "metadata": {
        "id": "040f4925"
      },
      "source": [
        "### Mathematical Background\n",
        "\n",
        "**Sets**\n",
        "\n",
        "A Set is a collection of different elements. We have some elements and we put them together.\n",
        "This collection is called a Set.\n",
        "There are two types of sets:\n",
        "1. Finite sets: It has a finite number of elements. For example, a set that includes numbers between 10 and 20.\n",
        "2. Infinite set: For example, a set of all real numbers.\n"
      ]
    },
    {
      "cell_type": "markdown",
      "id": "453a9489",
      "metadata": {
        "id": "453a9489"
      },
      "source": [
        "![probability_sets.jpg](https://github.com/4GeeksAcademy/machine-learning-content/blob/master/assets/probability_sets.jpg?raw=1)"
      ]
    },
    {
      "cell_type": "markdown",
      "id": "508ee449",
      "metadata": {
        "id": "508ee449"
      },
      "source": [
        "Everything outside the Set A we call it the complement of Set A. An element x belongs to the complement of A if x is an element of our universal set, and also does not belong to A.\n",
        "\n",
        "Now when we have two sets A and B, we can talk about their union and intersections.\n",
        "\n",
        "The **union** of the two sets consists of all elements that belong to one set or the other, or both. So, an element belongs to the union if and only if this element belongs to one of the sets, or it belongs to the other one of the sets.\n",
        "\n",
        "The **intersection** of two sets is the collection of elements that belong to both of the sets. So, an element belongs to the intersection of two sets if and only if that element belongs to both of them.\n"
      ]
    },
    {
      "cell_type": "markdown",
      "id": "66210b5f",
      "metadata": {
        "id": "66210b5f"
      },
      "source": [
        "![intersection.jpg](https://github.com/4GeeksAcademy/machine-learning-content/blob/master/assets/intersection.jpg?raw=1)"
      ]
    },
    {
      "cell_type": "markdown",
      "id": "52bbdecd",
      "metadata": {
        "id": "52bbdecd"
      },
      "source": [
        "**Sequences**\n",
        "\n",
        "A sequence is a collection of elements that are coming out of some set and that collection is indexed by the natural numbers. \n",
        "We mean that we have $i$ and $ai$ where $i$ is an index that runs over the natural numbers, which is the set of positive integers, and each $ai$ is an element of some set. Formally, a sequence is a function that, to any natural number, associates an element of $S$. We normally care about whether a sequence converges to some number $a$. The limit as $i$ goes to infinity of $ai$ is equal to a certain number, $a$.\n",
        "\n",
        "But what exactly does it mean for a sequence to converge?\n",
        "\n",
        "No matter what kind of band I take around my limit $a$, eventually, the sequence will be inside this band and will stay inside there. For example, if a certain sequence converges to a number a and another sequence converges to a number $b$, we will have that $ai + bi$ (which is another sequence) will converge to $a+b$.\n",
        "\n",
        "But, how can we tell whether a given sequence converges or not?\n",
        "\n",
        "We have 2 cases:\n",
        "\n",
        "1. The first one, when we have a sequence of numbers that keep increasing. Those numbers may go up forever without any bound. In that case we say that the sequence converges to infinity. \n",
        "2. But if it does not converge to infinity, which means that the entries of the sequence are bounded, then in that case, the sequence will converge to a certain number.\n",
        "\n",
        "**Infinite series**\n",
        "\n",
        "We have a sequence of numbers $ai$, indexed by $i$, where $i$ ranges from $1$ to infinity. Then we have an infinite sequence. We want to add the terms of that sequence together. \n",
        "\n",
        "So, what is an infinite series?\n",
        "\n",
        "The infinite series is defined as the limit, as $n$ goes to infinity, of the finite series in which we add only the first $n$ terms in the series. The situation is more complicated if the terms $ai$ can have different signs. In that case, it's possible that the limit does not exist, and so the series is not well defined.\n",
        "\n",
        "**Countable vs Uncountable sets**\n",
        "\n",
        "Probability models often involve infinite sample sets. Some sets are discrete, which we call countable, and some are continuous and we call them uncountable.\n",
        "A set will be called countable if we look at its elements, and we take one element. We call it the first element. We take another element, we call it the second element, and so on. This way, we will eventually exhaust all of the elements of the set, so that each one corresponds to a positive integer.\n",
        "\n",
        "What would be an uncountable set?\n",
        "\n",
        "An uncountable set is a set that is not countable. Whenever we have a unit interval or any other interval that has a positive length, that interval is an uncountable set. And the same is true if instead of an interval, we look at the entire real line or two or three or more dimensional spaces. So all the usual sets that we think of as continuous sets turn out to be uncountable.\n",
        "\n",
        "\n",
        "\n",
        "### Probability\n",
        "\n",
        "Nowadays, there is not much we can understand about what goes on around us unless we understand uncertainty. It is easy to formulate propositions without uncertainty, but problems appear when uncertainty reveals itself.\n",
        "\n",
        "Probability finds out the likeliness that something will happen by providing a way to summarize the uncertainty that comes from laziness and ignorance. So life is uncertain but we need to make predictions and decisions under uncertainty.\n",
        "\n",
        "A probabilistic model is a model of a random experiment and it can help you analyze uncertain situations no matter what your unique background is. \n",
        "We first describe the possible outcomes of the experiment and then we describe the likelihood of the different possible outcomes. This combination is called the probability space, which is the pairing $(S, P)$ where $S$ is the sample space and $P$ is the probability distribution.\n",
        "\n",
        "Let's imagine we flip a coin. The probability space is $(S, P)$. We make a SET of the possible outcomes. That set is called the **sample space** of all elementary events. Its **probability distribution** means assigning a real number $p(x)$ to every elementary event $X$ such that its probability is between $0$ and $1$ and the sum of all these probabilities is equal to $1$.\n",
        "\n",
        "$S = {Heads, Tails}$ where $S$ can either be heads or tails, therefore the probability is $P(Heads) = P(Tails) = 1/2$\n",
        "\n",
        "The probability for heads is the same as the probability for tails which is the same as $0.5$. So if you flip a coin there is an even chance of getting heads or of getting tails.\n",
        "\n",
        "\n",
        "Now let's imagine we have a fair roll dice. We have $6$ possible outcomes if we roll a dice : { 1, 2, 3, 4, 5, 6}\n",
        "If it is a fair roll dice, then each of those possible outcomes has the same probability, which would be: \n",
        "\n",
        "number of possibilities that meet my condition / number of equally likely possibilities\n",
        "\n",
        "$P(1) = 1/6$\n",
        "\n",
        "$P(1 or 6) = 2/6$\n",
        "\n",
        "$p(2 and 3) = 0/6$ ------> getting a $2$ or a $3$ are mutually exclusive events. They can not happen at the same time.\n",
        "\n",
        "A probability distribution is considered uniform if every outcome is equally as likely.\n",
        "\n",
        "Sample spaces are sets, and a set can be discrete, finite, infinite, continuous, and so on. Let's have an example of a simple discrete and finite sample space. We will roll a dice twice. We are not dealing with two probabilistic experiments. We are dealing with a single experiment that involves two rolls of the die. We take note of the first result, and then take note of the second result and this gives us a pair of numbers and graph it as follows.\n",
        "\n"
      ]
    },
    {
      "cell_type": "markdown",
      "id": "fc8d6d91",
      "metadata": {
        "id": "fc8d6d91"
      },
      "source": [
        "![probability_dice.jpg](https://github.com/4GeeksAcademy/machine-learning-content/blob/master/assets/probability_dice.jpg?raw=1)"
      ]
    },
    {
      "cell_type": "markdown",
      "id": "1fd6e77a",
      "metadata": {
        "id": "1fd6e77a"
      },
      "source": [
        "### Why Probability?\n",
        "\n",
        "In many cases, it is more practical to use a simple but uncertain rule rather than a complex but certain one, even if the true rule is deterministic and our modeling system has the fidelity to accommodate a complex rule.\n",
        "\n",
        "For example, the simple rule \"Most birds fly\" is **cheap** to develop and is broadly useful, while a rule of the form \"Birds fly, except for very young birds that have not yet learned to fly, sick or injured birds that have lost the ability to fly, flightless species of birds including the cassowary, ostrich, and kiwi...\" is **expensive** to develop, maintain and communicate and, after all this effort, is still **fragile** and prone to **failure**.\n",
        "\n",
        "Probability can be seen as the extension of logic to deal with uncertainty.\n",
        "\n",
        "Probability theory provides a set of formal rules for determining the likelihood of a proposition being true given the likelihood of other propositions.\n",
        "\n",
        "\n",
        "\n",
        "### Types of Probability\n",
        "\n",
        "**Frequentist Probability:**\n",
        "\n",
        "•\tFrequency of events -Example: The chance of drawing a certain hand in poker \n",
        "\n",
        "•\tFixed model, different data (We run the same experiments each time with different data)\n",
        "\n",
        "**Bayesian Probability:**\n",
        "\n",
        "•\tA degree of belief, for example, a doctor saying a patient has a 40 percent chance of having the flu.\n",
        "\n",
        "•\tFixed data and different models (We use the same belief to check the uncertainty of different models and update our beliefs) -Based on Bayes Rule.\n",
        "\n",
        "**Differences between Bayesian and frequentist statistics.**\n",
        "\n",
        "Both attempt to estimate a population parameter based on a sample of data.\n",
        "\n",
        "Frequentists treat the data as random and the statistic as fixed. Inferences are based on long-run infinite sampling, and estimates of the parameter come in the form of point estimates or confidence intervals.\n",
        "\n",
        "Bayesians treat the population parameter as random and the data as fixed. Bayesian statistics allows us to make informed guesses about the value of the parameter in the form of prior distributions. Estimates of the parameter come in the form of posterior distributions.\n"
      ]
    },
    {
      "cell_type": "markdown",
      "id": "ce753883",
      "metadata": {
        "id": "ce753883"
      },
      "source": [
        "![bayessian.png](https://github.com/4GeeksAcademy/machine-learning-content/blob/master/assets/bayessian.png?raw=1)"
      ]
    },
    {
      "cell_type": "markdown",
      "id": "8859d21a",
      "metadata": {
        "id": "8859d21a"
      },
      "source": [
        "### Events\n",
        "\n",
        "An event is a set of outcomes of an experiment in probability. In Bayesian probability, an event is defined as describing the next possible state space using knowledge from the current state.\n",
        "\n",
        "Events can be :\n",
        "\n",
        "•\tIndependent - each event is not affected by previous or future events. \n",
        "\n",
        "•\tDependent - an event is affected by other events. \n",
        "\n",
        "•\tMutually exclusive - events can't happen at the same time.\n",
        "\n",
        "The complement of an event is all the other outcomes of an event. For example, if the event is Tails, the complement is Heads. If you know the probability of $p(x)$ you can find the complement by doing $1 - p(x)$. Sometimes it is easier to work out the complement first before the actual probability.\n",
        "\n",
        "\n",
        "### Conditional Probability\n",
        "\n",
        "The conditional probability of an event $B$ is the probability that the event will occur given that event $A$ has already occurred.\n",
        "If $A$ and $B$ are two events, then the conditional probability can be designated as $P(A given B)$ or $P(A|B)$. Conditional probability can be calculated from the joint probability $(A | B) = P(A, B) / P(B)$ The conditional probability is not symmetrical; \n",
        "\n",
        "For example $P(A | B) != P(B | A)$\n",
        "\n",
        "Other ways of calculating conditional probability includes using the other conditional probability, i.e.\n",
        "\n",
        "$P(A|B) = P(B|A) * P(A) / P(B)$ ----->Bayes Theorem\n",
        "\n",
        "Reverse is also used:\n",
        "\n",
        "$P(B|A) = P(A|B) * P(B) / P(A)$\n",
        "\n",
        "This way of calculation is useful when it is challenging to calculate the joint probability. Else, when the reverse conditional probability is available, calculation through this becomes easy.\n",
        "This alternate calculation of conditional probability is referred to as the Bayes Rule or Bayes Theorem.\n",
        "\n",
        "\n",
        "**Bayes Theorem**\n",
        "\n",
        "Bayes’ theorem is a simple mathematical formula used for calculating conditional probabilities. This theorem states that:\n",
        "\n",
        "$P(A|B) = P(B|A) * P(A) / P(B)$\n",
        "\n",
        "Bayes’s theorem is used for the calculation of a conditional probability where intuition often fails. Although widely used in probability, the theorem is being applied in the machine learning field too. Its use in machine learning includes the fitting of a model to a training dataset and developing classification models.\n",
        "\n",
        "It is always possible to answer conditional probability questions by Bayes Therorem. It tells us the probability of event A given some new evidence B, but if you forgot it you can always grow stories with trimed trees.\n",
        "\n",
        "Example:\n",
        "\n",
        "Dangerous fires are rare (1%) But smoke is fairly common (10%) due to barbecues, And 90% of dangerous fires make smoke\n",
        "What is the probability of a dangerous Fire when there is Smoke?\n",
        "\n",
        "Calculation\n",
        "\n",
        "$P(Fire|Smoke) =P(Fire) P(Smoke|Fire)/P(Smoke)$\n",
        "\n",
        "= 1% x 90%/10%\n",
        "\n",
        "= 9%"
      ]
    },
    {
      "cell_type": "markdown",
      "id": "921c8a79",
      "metadata": {
        "id": "921c8a79"
      },
      "source": [
        "**Bayes Theorem in Machine Learning**\n",
        "\n",
        "Bayes theorem can be used both in regression and classification.\n",
        "\n",
        "Generally, in Supervised Machine Learning, when we want to train a model the main building blocks are:\n",
        "\n",
        "- A set of data points that contain features (the attributes that define such data points)\n",
        "- The labels of such data point (the numeric or categorical tag which we later want to predict on new data points)\n",
        "- A hypothesis function that links such features with their corresponding labels.\n",
        "- We also have a loss function, which is the difference between the predictions of the model and the real labels which we want to reduce to achieve the best possible results."
      ]
    },
    {
      "cell_type": "markdown",
      "id": "01530dae",
      "metadata": {
        "id": "01530dae"
      },
      "source": [
        "References:\n",
        "\n",
        "https://medium.com/brandons-computer-science-notes/an-introdcution-to-probability-45a64aee7606\n",
        "\n",
        "https://discovery.cs.illinois.edu/learn/Prediction-and-Probability/Conditional-Probability/\n",
        "\n",
        "https://www.upgrad.com/blog/bayes-theorem-explained-with-example-complete-guide/\n",
        "\n",
        "https://www.edx.org/es/micromasters/mitx-statistics-and-data-science\n",
        "\n",
        "https://towardsdatascience.com/bayes-theorem-clearly-explained-with-visualization-5083ea5e9b14\n"
      ]
    }
  ],
  "metadata": {
    "kernelspec": {
      "display_name": "Python 3 (ipykernel)",
      "language": "python",
      "name": "python3"
    },
    "language_info": {
      "codemirror_mode": {
        "name": "ipython",
        "version": 3
      },
      "file_extension": ".py",
      "mimetype": "text/x-python",
      "name": "python",
      "nbconvert_exporter": "python",
      "pygments_lexer": "ipython3",
      "version": "3.9.7"
    },
    "colab": {
      "name": "probability.ipynb",
      "provenance": [],
      "include_colab_link": true
    }
  },
  "nbformat": 4,
  "nbformat_minor": 5
}